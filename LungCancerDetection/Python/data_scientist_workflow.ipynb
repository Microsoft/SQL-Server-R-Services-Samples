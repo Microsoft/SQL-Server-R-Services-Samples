{
 "cells": [
  {
   "cell_type": "markdown",
   "metadata": {},
   "source": [
    "# Lung Cancer Detection using revoscalepy and microsoftml"
   ]
  },
  {
   "cell_type": "code",
   "execution_count": 2,
   "metadata": {},
   "outputs": [
    {
     "name": "stdout",
     "output_type": "stream",
     "text": [
      "The autoreload extension is already loaded. To reload it, use:\n",
      "  %reload_ext autoreload\n",
      "Old recursion limit:  1000\n",
      "New recursion limit:  1500\n"
     ]
    }
   ],
   "source": [
    "import pandas as pd\n",
    "import sys\n",
    "\n",
    "from revoscalepy import RxSqlServerData, rx_data_step, RxInSqlServer, RxLocalSeq, rx_set_compute_context\n",
    "from microsoftml import rx_fast_trees\n",
    "from microsoftml import rx_predict as ml_predict\n",
    "\n",
    "from lung_cancer.connection_settings import get_connection_string, TABLE_LABELS, TABLE_FEATURES, IMAGES_FOLDER, TABLE_SLICE_FEATURES\n",
    "from lung_cancer.connection_settings import TABLE_PATIENTS, TABLE_CLASSIFIERS, TABLE_TRAIN_ID, TABLE_PREDICTIONS, FASTTREE_MODEL_NAME\n",
    "from lung_cancer.lung_cancer_utils import compute_features, gather_image_paths, average_pool\n",
    "from lung_cancer.lung_cancer_utils import insert_model, retrieve_model, create_formula, roc, train_test_split\n",
    "\n",
    "\n",
    "# Display matplotlib plots inline\n",
    "%matplotlib inline\n",
    "\n",
    "# Enable autoreloading of imported modules\n",
    "%load_ext autoreload\n",
    "%autoreload 2\n",
    "\n",
    "# Set recursion limit to be slightly larger to accommodate larger formulas (which are paresed recursively)\n",
    "print(\"Old recursion limit: \", sys.getrecursionlimit())\n",
    "sys.setrecursionlimit(1500)\n",
    "print(\"New recursion limit: \", sys.getrecursionlimit())"
   ]
  },
  {
   "cell_type": "code",
   "execution_count": 3,
   "metadata": {},
   "outputs": [
    {
     "name": "stdout",
     "output_type": "stream",
     "text": [
      "DRIVER={ODBC Driver 13 for SQL Server};SERVER=.\\TYLERSQLSERVER;PORT=21816;DATABASE=LungCancerDemo2;Trusted_Connection=Yes\n"
     ]
    },
    {
     "data": {
      "text/plain": [
       "<revoscalepy.computecontext.RxLocalSeq.RxLocalSeq at 0x1ed8d5ed3c8>"
      ]
     },
     "execution_count": 3,
     "metadata": {},
     "output_type": "execute_result"
    }
   ],
   "source": [
    "# Connect to SQL Server\n",
    "connection_string = get_connection_string()\n",
    "sql = RxInSqlServer(connection_string=connection_string)\n",
    "local = RxLocalSeq()\n",
    "rx_set_compute_context(local)"
   ]
  },
  {
   "cell_type": "markdown",
   "metadata": {},
   "source": [
    "## Featurize Images\n",
    "We begin by featurizing images using a Convolutional Neural Network that has been pretrained on ImageNet"
   ]
  },
  {
   "cell_type": "code",
   "execution_count": 4,
   "metadata": {},
   "outputs": [
    {
     "name": "stdout",
     "output_type": "stream",
     "text": [
      "Rows Read: 36069, Total Rows Processed: 36069, Total Chunk Time: 9.383 seconds \n",
      "Number of images to featurize: 36069\n"
     ]
    }
   ],
   "source": [
    "# Get paths to filetable images\n",
    "data = gather_image_paths(IMAGES_FOLDER, connection_string=connection_string)\n",
    "print(\"Number of images to featurize: {}\".format(len(data)))"
   ]
  },
  {
   "cell_type": "code",
   "execution_count": 5,
   "metadata": {},
   "outputs": [
    {
     "name": "stdout",
     "output_type": "stream",
     "text": [
      "Featurizing Images\n"
     ]
    },
    {
     "data": {
      "text/plain": [
       "<revoscalepy.computecontext.RxLocalSeq.RxLocalSeq at 0x1ed8ffe04e0>"
      ]
     },
     "execution_count": 5,
     "metadata": {},
     "output_type": "execute_result"
    }
   ],
   "source": [
    "# Featureize images. This can be very time consuming.\n",
    "print(\"Featurizing Images\")\n",
    "rx_set_compute_context(local)   # TODO: sql not working correctly. Change to sql later.\n",
    "compute_features(data, output_table=TABLE_SLICE_FEATURES, connection_string=connection_string)\n",
    "rx_set_compute_context(local)"
   ]
  },
  {
   "cell_type": "markdown",
   "metadata": {},
   "source": [
    "## Average Pooling\n",
    "Average pooling is used to condense the features generated from each image slice into a single set of features for each patient"
   ]
  },
  {
   "cell_type": "code",
   "execution_count": 6,
   "metadata": {},
   "outputs": [
    {
     "name": "stdout",
     "output_type": "stream",
     "text": [
      "Performing Average Pooling\n",
      "Rows Read: 199, Total Rows Processed: 199, Total Chunk Time: 0.026 seconds \n",
      "Rows Read: 195, Total Rows Processed: 195, Total Chunk Time: 0.139 seconds \n",
      "Computation time: 0.214 seconds.\n",
      "Rows Read: 265, Total Rows Processed: 265, Total Chunk Time: 0.143 seconds \n",
      "Computation time: 0.229 seconds.\n",
      "Rows Read: 233, Total Rows Processed: 233, Total Chunk Time: 0.135 seconds \n",
      "Computation time: 0.219 seconds.\n",
      "Rows Read: 173, Total Rows Processed: 173, Total Chunk Time: 0.141 seconds \n",
      "Computation time: 0.226 seconds.\n",
      "Rows Read: 146, Total Rows Processed: 146, Total Chunk Time: 0.164 seconds \n",
      "Computation time: 0.258 seconds.\n",
      "Rows Read: 171, Total Rows Processed: 171, Total Chunk Time: 0.135 seconds \n",
      "Computation time: 0.226 seconds.\n",
      "Rows Read: 123, Total Rows Processed: 123, Total Chunk Time: 0.139 seconds \n",
      "Computation time: 0.232 seconds.\n",
      "Rows Read: 134, Total Rows Processed: 134, Total Chunk Time: 0.139 seconds \n",
      "Computation time: 0.239 seconds.\n",
      "Rows Read: 135, Total Rows Processed: 135, Total Chunk Time: 0.142 seconds \n",
      "Computation time: 0.232 seconds.\n",
      "Rows Read: 191, Total Rows Processed: 191, Total Chunk Time: 0.140 seconds \n",
      "Computation time: 0.236 seconds.\n",
      "Rows Read: 217, Total Rows Processed: 217, Total Chunk Time: 0.148 seconds \n",
      "Computation time: 0.238 seconds.\n",
      "Rows Read: 231, Total Rows Processed: 231, Total Chunk Time: 0.152 seconds \n",
      "Computation time: 0.249 seconds.\n",
      "Rows Read: 159, Total Rows Processed: 159, Total Chunk Time: 0.148 seconds \n",
      "Computation time: 0.253 seconds.\n",
      "Rows Read: 241, Total Rows Processed: 241, Total Chunk Time: 0.148 seconds \n",
      "Computation time: 0.240 seconds.\n",
      "Rows Read: 175, Total Rows Processed: 175, Total Chunk Time: 0.142 seconds \n",
      "Computation time: 0.221 seconds.\n",
      "Rows Read: 186, Total Rows Processed: 186, Total Chunk Time: 0.119 seconds \n",
      "Computation time: 0.199 seconds.\n",
      "Rows Read: 159, Total Rows Processed: 159, Total Chunk Time: 0.117 seconds \n",
      "Computation time: 0.197 seconds.\n",
      "Rows Read: 106, Total Rows Processed: 106, Total Chunk Time: 0.116 seconds \n",
      "Computation time: 0.188 seconds.\n",
      "Rows Read: 205, Total Rows Processed: 205, Total Chunk Time: 0.146 seconds \n",
      "Computation time: 0.250 seconds.\n",
      "Rows Read: 183, Total Rows Processed: 183, Total Chunk Time: 0.130 seconds \n",
      "Computation time: 0.202 seconds.\n",
      "Rows Read: 147, Total Rows Processed: 147, Total Chunk Time: 0.135 seconds \n",
      "Computation time: 0.211 seconds.\n",
      "Rows Read: 149, Total Rows Processed: 149, Total Chunk Time: 0.118 seconds \n",
      "Computation time: 0.196 seconds.\n",
      "Rows Read: 135, Total Rows Processed: 135, Total Chunk Time: 0.113 seconds \n",
      "Computation time: 0.187 seconds.\n",
      "Rows Read: 160, Total Rows Processed: 160, Total Chunk Time: 0.124 seconds \n",
      "Computation time: 0.194 seconds.\n",
      "Rows Read: 223, Total Rows Processed: 223, Total Chunk Time: 0.122 seconds \n",
      "Computation time: 0.202 seconds.\n",
      "Rows Read: 147, Total Rows Processed: 147, Total Chunk Time: 0.115 seconds \n",
      "Computation time: 0.204 seconds.\n",
      "Rows Read: 145, Total Rows Processed: 145, Total Chunk Time: 0.143 seconds \n",
      "Computation time: 0.227 seconds.\n",
      "Rows Read: 151, Total Rows Processed: 151, Total Chunk Time: 0.163 seconds \n",
      "Computation time: 0.269 seconds.\n",
      "Rows Read: 161, Total Rows Processed: 161, Total Chunk Time: 0.133 seconds \n",
      "Computation time: 0.212 seconds.\n",
      "Rows Read: 140, Total Rows Processed: 140, Total Chunk Time: 0.111 seconds \n",
      "Computation time: 0.190 seconds.\n",
      "Rows Read: 189, Total Rows Processed: 189, Total Chunk Time: 0.109 seconds \n",
      "Computation time: 0.173 seconds.\n",
      "Rows Read: 155, Total Rows Processed: 155, Total Chunk Time: 0.109 seconds \n",
      "Computation time: 0.180 seconds.\n",
      "Rows Read: 132, Total Rows Processed: 132, Total Chunk Time: 0.105 seconds \n",
      "Computation time: 0.167 seconds.\n",
      "Rows Read: 213, Total Rows Processed: 213, Total Chunk Time: 0.121 seconds \n",
      "Computation time: 0.188 seconds.\n",
      "Rows Read: 135, Total Rows Processed: 135, Total Chunk Time: 0.108 seconds \n",
      "Computation time: 0.182 seconds.\n",
      "Rows Read: 133, Total Rows Processed: 133, Total Chunk Time: 0.143 seconds \n",
      "Computation time: 0.219 seconds.\n",
      "Rows Read: 135, Total Rows Processed: 135, Total Chunk Time: 0.102 seconds \n",
      "Computation time: 0.170 seconds.\n",
      "Rows Read: 177, Total Rows Processed: 177, Total Chunk Time: 0.131 seconds \n",
      "Computation time: 0.198 seconds.\n",
      "Rows Read: 171, Total Rows Processed: 171, Total Chunk Time: 0.105 seconds \n",
      "Computation time: 0.169 seconds.\n",
      "Rows Read: 313, Total Rows Processed: 313, Total Chunk Time: 0.121 seconds \n",
      "Computation time: 0.182 seconds.\n",
      "Rows Read: 132, Total Rows Processed: 132, Total Chunk Time: 0.103 seconds \n",
      "Computation time: 0.164 seconds.\n",
      "Rows Read: 184, Total Rows Processed: 184, Total Chunk Time: 0.110 seconds \n",
      "Computation time: 0.181 seconds.\n",
      "Rows Read: 134, Total Rows Processed: 134, Total Chunk Time: 0.098 seconds \n",
      "Computation time: 0.161 seconds.\n",
      "Rows Read: 323, Total Rows Processed: 323, Total Chunk Time: 0.118 seconds \n",
      "Computation time: 0.183 seconds.\n",
      "Rows Read: 114, Total Rows Processed: 114, Total Chunk Time: 0.099 seconds \n",
      "Computation time: 0.162 seconds.\n",
      "Rows Read: 178, Total Rows Processed: 178, Total Chunk Time: 0.105 seconds \n",
      "Computation time: 0.166 seconds.\n",
      "Rows Read: 168, Total Rows Processed: 168, Total Chunk Time: 0.111 seconds \n",
      "Computation time: 0.183 seconds.\n",
      "Rows Read: 179, Total Rows Processed: 179, Total Chunk Time: 0.120 seconds \n",
      "Computation time: 0.184 seconds.\n",
      "Rows Read: 157, Total Rows Processed: 157, Total Chunk Time: 0.103 seconds \n",
      "Computation time: 0.170 seconds.\n",
      "Rows Read: 284, Total Rows Processed: 284, Total Chunk Time: 0.111 seconds \n",
      "Computation time: 0.175 seconds.\n",
      "Rows Read: 397, Total Rows Processed: 397, Total Chunk Time: 0.120 seconds \n",
      "Computation time: 0.185 seconds.\n",
      "Rows Read: 142, Total Rows Processed: 142, Total Chunk Time: 0.105 seconds \n",
      "Computation time: 0.171 seconds.\n",
      "Rows Read: 178, Total Rows Processed: 178, Total Chunk Time: 0.113 seconds \n",
      "Computation time: 0.182 seconds.\n",
      "Rows Read: 175, Total Rows Processed: 175, Total Chunk Time: 0.103 seconds \n",
      "Computation time: 0.173 seconds.\n",
      "Rows Read: 120, Total Rows Processed: 120, Total Chunk Time: 0.106 seconds \n",
      "Computation time: 0.168 seconds.\n",
      "Rows Read: 128, Total Rows Processed: 128, Total Chunk Time: 0.099 seconds \n",
      "Computation time: 0.163 seconds.\n",
      "Rows Read: 133, Total Rows Processed: 133, Total Chunk Time: 0.104 seconds \n",
      "Computation time: 0.169 seconds.\n",
      "Rows Read: 110, Total Rows Processed: 110, Total Chunk Time: 0.098 seconds \n",
      "Computation time: 0.159 seconds.\n",
      "Rows Read: 203, Total Rows Processed: 203, Total Chunk Time: 0.106 seconds \n",
      "Computation time: 0.174 seconds.\n",
      "Rows Read: 280, Total Rows Processed: 280, Total Chunk Time: 0.116 seconds \n",
      "Computation time: 0.177 seconds.\n",
      "Rows Read: 123, Total Rows Processed: 123, Total Chunk Time: 0.100 seconds \n",
      "Computation time: 0.161 seconds.\n",
      "Rows Read: 164, Total Rows Processed: 164, Total Chunk Time: 0.103 seconds \n",
      "Computation time: 0.167 seconds.\n",
      "Rows Read: 244, Total Rows Processed: 244, Total Chunk Time: 0.107 seconds \n",
      "Computation time: 0.168 seconds.\n",
      "Rows Read: 136, Total Rows Processed: 136, Total Chunk Time: 0.102 seconds \n",
      "Computation time: 0.167 seconds.\n",
      "Rows Read: 180, Total Rows Processed: 180, Total Chunk Time: 0.105 seconds \n",
      "Computation time: 0.168 seconds.\n",
      "Rows Read: 221, Total Rows Processed: 221, Total Chunk Time: 0.113 seconds \n",
      "Computation time: 0.182 seconds.\n",
      "Rows Read: 147, Total Rows Processed: 147, Total Chunk Time: 0.117 seconds \n",
      "Computation time: 0.179 seconds.\n",
      "Rows Read: 435, Total Rows Processed: 435, Total Chunk Time: 0.132 seconds \n",
      "Computation time: 0.196 seconds.\n",
      "Rows Read: 183, Total Rows Processed: 183, Total Chunk Time: 0.116 seconds \n",
      "Computation time: 0.179 seconds.\n",
      "Rows Read: 126, Total Rows Processed: 126, Total Chunk Time: 0.117 seconds \n",
      "Computation time: 0.190 seconds.\n",
      "Rows Read: 177, Total Rows Processed: 177, Total Chunk Time: 0.137 seconds \n",
      "Computation time: 0.218 seconds.\n",
      "Rows Read: 171, Total Rows Processed: 171, Total Chunk Time: 0.126 seconds \n",
      "Computation time: 0.200 seconds.\n",
      "Rows Read: 113, Total Rows Processed: 113, Total Chunk Time: 0.106 seconds \n",
      "Computation time: 0.167 seconds.\n",
      "Rows Read: 152, Total Rows Processed: 152, Total Chunk Time: 0.135 seconds \n",
      "Computation time: 0.213 seconds.\n",
      "Rows Read: 152, Total Rows Processed: 152, Total Chunk Time: 0.120 seconds \n",
      "Computation time: 0.199 seconds.\n"
     ]
    },
    {
     "name": "stdout",
     "output_type": "stream",
     "text": [
      "Rows Read: 259, Total Rows Processed: 259, Total Chunk Time: 0.153 seconds \n",
      "Computation time: 0.233 seconds.\n",
      "Rows Read: 128, Total Rows Processed: 128, Total Chunk Time: 0.105 seconds \n",
      "Computation time: 0.169 seconds.\n",
      "Rows Read: 139, Total Rows Processed: 139, Total Chunk Time: 0.101 seconds \n",
      "Computation time: 0.172 seconds.\n",
      "Rows Read: 213, Total Rows Processed: 213, Total Chunk Time: 0.109 seconds \n",
      "Computation time: 0.170 seconds.\n",
      "Rows Read: 138, Total Rows Processed: 138, Total Chunk Time: 0.108 seconds \n",
      "Computation time: 0.175 seconds.\n",
      "Rows Read: 122, Total Rows Processed: 122, Total Chunk Time: 0.100 seconds \n",
      "Computation time: 0.160 seconds.\n",
      "Rows Read: 130, Total Rows Processed: 130, Total Chunk Time: 0.103 seconds \n",
      "Computation time: 0.165 seconds.\n",
      "Rows Read: 139, Total Rows Processed: 139, Total Chunk Time: 0.099 seconds \n",
      "Computation time: 0.160 seconds.\n",
      "Rows Read: 155, Total Rows Processed: 155, Total Chunk Time: 0.102 seconds \n",
      "Computation time: 0.162 seconds.\n",
      "Rows Read: 158, Total Rows Processed: 158, Total Chunk Time: 0.103 seconds \n",
      "Computation time: 0.176 seconds.\n",
      "Rows Read: 138, Total Rows Processed: 138, Total Chunk Time: 0.174 seconds \n",
      "Computation time: 0.238 seconds.\n",
      "Rows Read: 167, Total Rows Processed: 167, Total Chunk Time: 0.118 seconds \n",
      "Computation time: 0.181 seconds.\n",
      "Rows Read: 130, Total Rows Processed: 130, Total Chunk Time: 0.097 seconds \n",
      "Computation time: 0.163 seconds.\n",
      "Rows Read: 152, Total Rows Processed: 152, Total Chunk Time: 0.099 seconds \n",
      "Computation time: 0.160 seconds.\n",
      "Rows Read: 251, Total Rows Processed: 251, Total Chunk Time: 0.114 seconds \n",
      "Computation time: 0.174 seconds.\n",
      "Rows Read: 162, Total Rows Processed: 162, Total Chunk Time: 0.099 seconds \n",
      "Computation time: 0.163 seconds.\n",
      "Rows Read: 144, Total Rows Processed: 144, Total Chunk Time: 0.100 seconds \n",
      "Computation time: 0.160 seconds.\n",
      "Rows Read: 158, Total Rows Processed: 158, Total Chunk Time: 0.103 seconds \n",
      "Computation time: 0.166 seconds.\n",
      "Rows Read: 144, Total Rows Processed: 144, Total Chunk Time: 0.100 seconds \n",
      "Computation time: 0.161 seconds.\n",
      "Rows Read: 157, Total Rows Processed: 157, Total Chunk Time: 0.109 seconds \n",
      "Computation time: 0.175 seconds.\n",
      "Rows Read: 211, Total Rows Processed: 211, Total Chunk Time: 0.102 seconds \n",
      "Computation time: 0.163 seconds.\n",
      "Rows Read: 166, Total Rows Processed: 166, Total Chunk Time: 0.098 seconds \n",
      "Computation time: 0.159 seconds.\n",
      "Rows Read: 162, Total Rows Processed: 162, Total Chunk Time: 0.110 seconds \n",
      "Computation time: 0.180 seconds.\n",
      "Rows Read: 169, Total Rows Processed: 169, Total Chunk Time: 0.101 seconds \n",
      "Computation time: 0.165 seconds.\n",
      "Rows Read: 134, Total Rows Processed: 134, Total Chunk Time: 0.100 seconds \n",
      "Computation time: 0.162 seconds.\n",
      "Rows Read: 352, Total Rows Processed: 352, Total Chunk Time: 0.114 seconds \n",
      "Computation time: 0.173 seconds.\n",
      "Rows Read: 243, Total Rows Processed: 243, Total Chunk Time: 0.111 seconds \n",
      "Computation time: 0.176 seconds.\n",
      "Rows Read: 172, Total Rows Processed: 172, Total Chunk Time: 0.111 seconds \n",
      "Computation time: 0.173 seconds.\n",
      "Rows Read: 224, Total Rows Processed: 224, Total Chunk Time: 0.124 seconds \n",
      "Computation time: 0.219 seconds.\n",
      "Rows Read: 208, Total Rows Processed: 208, Total Chunk Time: 0.140 seconds \n",
      "Computation time: 0.221 seconds.\n",
      "Rows Read: 122, Total Rows Processed: 122, Total Chunk Time: 0.100 seconds \n",
      "Computation time: 0.167 seconds.\n",
      "Rows Read: 126, Total Rows Processed: 126, Total Chunk Time: 0.127 seconds \n",
      "Computation time: 0.204 seconds.\n",
      "Rows Read: 151, Total Rows Processed: 151, Total Chunk Time: 0.104 seconds \n",
      "Computation time: 0.175 seconds.\n",
      "Rows Read: 194, Total Rows Processed: 194, Total Chunk Time: 0.106 seconds \n",
      "Computation time: 0.171 seconds.\n",
      "Rows Read: 183, Total Rows Processed: 183, Total Chunk Time: 0.098 seconds \n",
      "Computation time: 0.168 seconds.\n",
      "Rows Read: 146, Total Rows Processed: 146, Total Chunk Time: 0.102 seconds \n",
      "Computation time: 0.167 seconds.\n",
      "Rows Read: 184, Total Rows Processed: 184, Total Chunk Time: 0.116 seconds \n",
      "Computation time: 0.177 seconds.\n",
      "Rows Read: 173, Total Rows Processed: 173, Total Chunk Time: 0.107 seconds \n",
      "Computation time: 0.174 seconds.\n",
      "Rows Read: 146, Total Rows Processed: 146, Total Chunk Time: 0.104 seconds \n",
      "Computation time: 0.174 seconds.\n",
      "Rows Read: 125, Total Rows Processed: 125, Total Chunk Time: 0.103 seconds \n",
      "Computation time: 0.169 seconds.\n",
      "Rows Read: 184, Total Rows Processed: 184, Total Chunk Time: 0.111 seconds \n",
      "Computation time: 0.176 seconds.\n",
      "Rows Read: 163, Total Rows Processed: 163, Total Chunk Time: 0.106 seconds \n",
      "Computation time: 0.175 seconds.\n",
      "Rows Read: 214, Total Rows Processed: 214, Total Chunk Time: 0.107 seconds \n",
      "Computation time: 0.179 seconds.\n",
      "Rows Read: 185, Total Rows Processed: 185, Total Chunk Time: 0.107 seconds \n",
      "Computation time: 0.173 seconds.\n",
      "Rows Read: 141, Total Rows Processed: 141, Total Chunk Time: 0.120 seconds \n",
      "Computation time: 0.198 seconds.\n",
      "Rows Read: 140, Total Rows Processed: 140, Total Chunk Time: 0.100 seconds \n",
      "Computation time: 0.169 seconds.\n",
      "Rows Read: 138, Total Rows Processed: 138, Total Chunk Time: 0.103 seconds \n",
      "Computation time: 0.166 seconds.\n",
      "Rows Read: 166, Total Rows Processed: 166, Total Chunk Time: 0.109 seconds \n",
      "Computation time: 0.168 seconds.\n",
      "Rows Read: 172, Total Rows Processed: 172, Total Chunk Time: 0.107 seconds \n",
      "Computation time: 0.177 seconds.\n",
      "Rows Read: 250, Total Rows Processed: 250, Total Chunk Time: 0.137 seconds \n",
      "Computation time: 0.203 seconds.\n",
      "Rows Read: 122, Total Rows Processed: 122, Total Chunk Time: 0.102 seconds \n",
      "Computation time: 0.163 seconds.\n",
      "Rows Read: 166, Total Rows Processed: 166, Total Chunk Time: 0.106 seconds \n",
      "Computation time: 0.173 seconds.\n",
      "Rows Read: 225, Total Rows Processed: 225, Total Chunk Time: 0.116 seconds \n",
      "Computation time: 0.181 seconds.\n",
      "Rows Read: 297, Total Rows Processed: 297, Total Chunk Time: 0.123 seconds \n",
      "Computation time: 0.194 seconds.\n",
      "Rows Read: 169, Total Rows Processed: 169, Total Chunk Time: 0.131 seconds \n",
      "Computation time: 0.197 seconds.\n",
      "Rows Read: 286, Total Rows Processed: 286, Total Chunk Time: 0.115 seconds \n",
      "Computation time: 0.181 seconds.\n",
      "Rows Read: 220, Total Rows Processed: 220, Total Chunk Time: 0.112 seconds \n",
      "Computation time: 0.174 seconds.\n",
      "Rows Read: 140, Total Rows Processed: 140, Total Chunk Time: 0.109 seconds \n",
      "Computation time: 0.176 seconds.\n",
      "Rows Read: 181, Total Rows Processed: 181, Total Chunk Time: 0.111 seconds \n",
      "Computation time: 0.172 seconds.\n",
      "Rows Read: 118, Total Rows Processed: 118, Total Chunk Time: 0.104 seconds \n",
      "Computation time: 0.170 seconds.\n",
      "Rows Read: 204, Total Rows Processed: 204, Total Chunk Time: 0.105 seconds \n",
      "Computation time: 0.169 seconds.\n",
      "Rows Read: 262, Total Rows Processed: 262, Total Chunk Time: 0.117 seconds \n",
      "Computation time: 0.179 seconds.\n",
      "Rows Read: 149, Total Rows Processed: 149, Total Chunk Time: 0.108 seconds \n",
      "Computation time: 0.171 seconds.\n",
      "Rows Read: 145, Total Rows Processed: 145, Total Chunk Time: 0.107 seconds \n",
      "Computation time: 0.172 seconds.\n",
      "Rows Read: 350, Total Rows Processed: 350, Total Chunk Time: 0.129 seconds \n",
      "Computation time: 0.209 seconds.\n",
      "Rows Read: 172, Total Rows Processed: 172, Total Chunk Time: 0.114 seconds \n",
      "Computation time: 0.180 seconds.\n",
      "Rows Read: 234, Total Rows Processed: 234, Total Chunk Time: 0.106 seconds \n",
      "Computation time: 0.174 seconds.\n",
      "Rows Read: 131, Total Rows Processed: 131, Total Chunk Time: 0.099 seconds \n",
      "Computation time: 0.182 seconds.\n",
      "Rows Read: 268, Total Rows Processed: 268, Total Chunk Time: 0.169 seconds \n",
      "Computation time: 0.252 seconds.\n",
      "Rows Read: 130, Total Rows Processed: 130, Total Chunk Time: 0.161 seconds \n",
      "Computation time: 0.237 seconds.\n",
      "Rows Read: 275, Total Rows Processed: 275, Total Chunk Time: 0.119 seconds \n",
      "Computation time: 0.193 seconds.\n",
      "Rows Read: 184, Total Rows Processed: 184, Total Chunk Time: 0.104 seconds \n",
      "Computation time: 0.170 seconds.\n",
      "Rows Read: 175, Total Rows Processed: 175, Total Chunk Time: 0.102 seconds \n",
      "Computation time: 0.165 seconds.\n",
      "Rows Read: 174, Total Rows Processed: 174, Total Chunk Time: 0.124 seconds \n",
      "Computation time: 0.196 seconds.\n",
      "Rows Read: 146, Total Rows Processed: 146, Total Chunk Time: 0.107 seconds \n",
      "Computation time: 0.179 seconds.\n",
      "Rows Read: 247, Total Rows Processed: 247, Total Chunk Time: 0.113 seconds \n"
     ]
    },
    {
     "name": "stdout",
     "output_type": "stream",
     "text": [
      "Computation time: 0.175 seconds.\n",
      "Rows Read: 277, Total Rows Processed: 277, Total Chunk Time: 0.115 seconds \n",
      "Computation time: 0.181 seconds.\n",
      "Rows Read: 150, Total Rows Processed: 150, Total Chunk Time: 0.108 seconds \n",
      "Computation time: 0.169 seconds.\n",
      "Rows Read: 155, Total Rows Processed: 155, Total Chunk Time: 0.112 seconds \n",
      "Computation time: 0.193 seconds.\n",
      "Rows Read: 123, Total Rows Processed: 123, Total Chunk Time: 0.125 seconds \n",
      "Computation time: 0.215 seconds.\n",
      "Rows Read: 126, Total Rows Processed: 126, Total Chunk Time: 0.101 seconds \n",
      "Computation time: 0.167 seconds.\n",
      "Rows Read: 342, Total Rows Processed: 342, Total Chunk Time: 0.121 seconds \n",
      "Computation time: 0.183 seconds.\n",
      "Rows Read: 166, Total Rows Processed: 166, Total Chunk Time: 0.122 seconds \n",
      "Computation time: 0.193 seconds.\n",
      "Rows Read: 233, Total Rows Processed: 233, Total Chunk Time: 0.113 seconds \n",
      "Computation time: 0.178 seconds.\n",
      "Rows Read: 180, Total Rows Processed: 180, Total Chunk Time: 0.107 seconds \n",
      "Computation time: 0.171 seconds.\n",
      "Rows Read: 130, Total Rows Processed: 130, Total Chunk Time: 0.110 seconds \n",
      "Computation time: 0.174 seconds.\n",
      "Rows Read: 159, Total Rows Processed: 159, Total Chunk Time: 0.107 seconds \n",
      "Computation time: 0.169 seconds.\n",
      "Rows Read: 135, Total Rows Processed: 135, Total Chunk Time: 0.102 seconds \n",
      "Computation time: 0.183 seconds.\n",
      "Rows Read: 123, Total Rows Processed: 123, Total Chunk Time: 0.115 seconds \n",
      "Computation time: 0.183 seconds.\n",
      "Rows Read: 152, Total Rows Processed: 152, Total Chunk Time: 0.099 seconds \n",
      "Computation time: 0.164 seconds.\n",
      "Rows Read: 161, Total Rows Processed: 161, Total Chunk Time: 0.101 seconds \n",
      "Computation time: 0.162 seconds.\n",
      "Rows Read: 181, Total Rows Processed: 181, Total Chunk Time: 0.105 seconds \n",
      "Computation time: 0.167 seconds.\n",
      "Rows Read: 175, Total Rows Processed: 175, Total Chunk Time: 0.101 seconds \n",
      "Computation time: 0.166 seconds.\n",
      "Rows Read: 506, Total Rows Processed: 506, Total Chunk Time: 0.124 seconds \n",
      "Computation time: 0.189 seconds.\n",
      "Rows Read: 149, Total Rows Processed: 149, Total Chunk Time: 0.104 seconds \n",
      "Computation time: 0.166 seconds.\n",
      "Rows Read: 266, Total Rows Processed: 266, Total Chunk Time: 0.106 seconds \n",
      "Computation time: 0.170 seconds.\n",
      "Rows Read: 162, Total Rows Processed: 162, Total Chunk Time: 0.105 seconds \n",
      "Computation time: 0.169 seconds.\n",
      "Rows Read: 158, Total Rows Processed: 158, Total Chunk Time: 0.133 seconds \n",
      "Computation time: 0.197 seconds.\n",
      "Rows Read: 472, Total Rows Processed: 472, Total Chunk Time: 0.138 seconds \n",
      "Computation time: 0.202 seconds.\n",
      "Rows Read: 207, Total Rows Processed: 207, Total Chunk Time: 0.103 seconds \n",
      "Computation time: 0.166 seconds.\n",
      "Rows Read: 125, Total Rows Processed: 125, Total Chunk Time: 0.106 seconds \n",
      "Computation time: 0.170 seconds.\n",
      "Rows Read: 152, Total Rows Processed: 152, Total Chunk Time: 0.103 seconds \n",
      "Computation time: 0.164 seconds.\n",
      "Rows Read: 166, Total Rows Processed: 166, Total Chunk Time: 0.099 seconds \n",
      "Computation time: 0.161 seconds.\n",
      "Rows Read: 120, Total Rows Processed: 120, Total Chunk Time: 0.096 seconds \n",
      "Computation time: 0.161 seconds.\n",
      "Rows Read: 113, Total Rows Processed: 113, Total Chunk Time: 0.092 seconds \n",
      "Computation time: 0.154 seconds.\n",
      "Rows Read: 152, Total Rows Processed: 152, Total Chunk Time: 0.101 seconds \n",
      "Computation time: 0.169 seconds.\n",
      "Rows Read: 154, Total Rows Processed: 154, Total Chunk Time: 0.103 seconds \n",
      "Computation time: 0.167 seconds.\n",
      "Rows Read: 151, Total Rows Processed: 151, Total Chunk Time: 0.104 seconds \n",
      "Computation time: 0.174 seconds.\n",
      "Rows Read: 125, Total Rows Processed: 125, Total Chunk Time: 0.115 seconds \n",
      "Computation time: 0.180 seconds.\n",
      "Rows Read: 162, Total Rows Processed: 162, Total Chunk Time: 0.119 seconds \n",
      "Computation time: 0.188 seconds.\n",
      "Rows Read: 116, Total Rows Processed: 116, Total Chunk Time: 0.093 seconds \n",
      "Computation time: 0.156 seconds.\n",
      "Rows Read: 150, Total Rows Processed: 150, Total Chunk Time: 0.100 seconds \n",
      "Computation time: 0.166 seconds.\n",
      "Rows Read: 149, Total Rows Processed: 149, Total Chunk Time: 0.099 seconds \n",
      "Computation time: 0.159 seconds.\n",
      "Rows Read: 487, Total Rows Processed: 487, Total Chunk Time: 0.128 seconds \n",
      "Computation time: 0.192 seconds.\n",
      "Rows Read: 180, Total Rows Processed: 180, Total Chunk Time: 0.102 seconds \n",
      "Computation time: 0.168 seconds.\n",
      "Rows Read: 224, Total Rows Processed: 224, Total Chunk Time: 0.107 seconds \n",
      "Computation time: 0.169 seconds.\n",
      "Rows Read: 189, Total Rows Processed: 189, Total Chunk Time: 0.102 seconds \n",
      "Computation time: 0.164 seconds.\n",
      "Rows Read: 167, Total Rows Processed: 167, Total Chunk Time: 0.100 seconds \n",
      "Computation time: 0.160 seconds.\n",
      "Rows Read: 134, Total Rows Processed: 134, Total Chunk Time: 0.108 seconds \n",
      "Computation time: 0.171 seconds.\n",
      "Rows Read: 231, Total Rows Processed: 231, Total Chunk Time: 0.104 seconds \n",
      "Computation time: 0.165 seconds.\n",
      "Rows Read: 142, Total Rows Processed: 142, Total Chunk Time: 0.104 seconds \n",
      "Computation time: 0.169 seconds.\n",
      "Rows Read: 214, Total Rows Processed: 214, Total Chunk Time: 0.101 seconds \n",
      "Computation time: 0.160 seconds.\n",
      "Rows Read: 172, Total Rows Processed: 172, Total Chunk Time: 0.103 seconds \n",
      "Computation time: 0.170 seconds.\n",
      "Rows Read: 126, Total Rows Processed: 126, Total Chunk Time: 0.106 seconds \n",
      "Computation time: 0.171 seconds.\n"
     ]
    }
   ],
   "source": [
    "# Average Pooling\n",
    "print(\"Performing Average Pooling\")\n",
    "pooled_data = average_pool(TABLE_SLICE_FEATURES, connection_string=connection_string)"
   ]
  },
  {
   "cell_type": "code",
   "execution_count": 7,
   "metadata": {},
   "outputs": [
    {
     "name": "stdout",
     "output_type": "stream",
     "text": [
      "Rows Read: 199, Total Rows Processed: 199\n",
      "Total Rows written: 199, Total time: 0.034\n",
      ", Total Chunk Time: 0.163 seconds \n",
      "Joining features with labels\n",
      "Rows Read: 199, Total Rows Processed: 199\n",
      "Total Rows written: 199, Total time: 0.034\n",
      ", Total Chunk Time: 0.238 seconds \n"
     ]
    }
   ],
   "source": [
    "# Write features to table\n",
    "tempfeats_sql = RxSqlServerData(table=TABLE_FEATURES, connection_string=connection_string)\n",
    "rx_data_step(input_data=pooled_data, output_file=tempfeats_sql, overwrite=True)\n",
    "\n",
    "# Perform join with labels\n",
    "print(\"Joining features with labels\")\n",
    "query = \"\"\"SELECT {}.*, {}.label FROM {} INNER JOIN {} ON {}.patient_id = {}.patient_id;\n",
    "    \"\"\".format(TABLE_FEATURES, TABLE_LABELS, TABLE_FEATURES, TABLE_LABELS, TABLE_FEATURES, TABLE_LABELS)\n",
    "tempfeats_sql = RxSqlServerData(sql_query=query, connection_string=connection_string)\n",
    "features_sql = RxSqlServerData(table=TABLE_FEATURES, connection_string=connection_string)\n",
    "rx_data_step(tempfeats_sql, features_sql, overwrite=True)"
   ]
  },
  {
   "cell_type": "markdown",
   "metadata": {},
   "source": [
    "## Train a Model on the featurized data\n",
    "We begin by slitting the data into a training set and a testing set. We then train an rx_fast_trees model on the featurized training data."
   ]
  },
  {
   "cell_type": "code",
   "execution_count": 8,
   "metadata": {},
   "outputs": [
    {
     "name": "stdout",
     "output_type": "stream",
     "text": [
      "Performing Train Test Split\n"
     ]
    }
   ],
   "source": [
    "print(\"Performing Train Test Split\")\n",
    "p = 80\n",
    "train_test_split(TABLE_TRAIN_ID, TABLE_PATIENTS, p, connection_string=connection_string)"
   ]
  },
  {
   "cell_type": "code",
   "execution_count": 9,
   "metadata": {
    "collapsed": true
   },
   "outputs": [],
   "source": [
    "# Point to the SQL table with the training data\n",
    "column_info = {\"label\": {\"type\": \"numeric\"}}\n",
    "query = \"SELECT * FROM {} WHERE patient_id IN (SELECT patient_id FROM {})\".format(TABLE_FEATURES, TABLE_TRAIN_ID)\n",
    "train_sql = RxSqlServerData(sql_query=query, connection_string=connection_string, column_info=column_info)"
   ]
  },
  {
   "cell_type": "code",
   "execution_count": 10,
   "metadata": {},
   "outputs": [
    {
     "name": "stdout",
     "output_type": "stream",
     "text": [
      "Formula: label ~ f0 + f1 + f2 + f3 + f4 + f5 + f6 + f7 + f8 + f9 + f10 + f11 + f12 + f13 + f14 + f15 + f16 + f17 + f18 + f19 + f20 + f21 + f22 + f23 + f24 + f25 + f26 + f27 + f28 + f29 + f30 + f31 + f32 + f33 + f34 + f35 + f36 + f37 + f38 + f39 + f40 + f41 + f42 + f43 + f44 + f45 + f46 + f47 + f48 + f49 + f50 + f51 + f52 + f53 + f54 + f55 + f56 + f57 + f58 + f59 + f60 + f61 + f62 + f63 + f64 + f65 + f66 + f67 + f68 + f69 + f70 + f71 + f72 + f73 + f74 + f75 + f76 + f77 + f78 + f79 + f80 + f81 + f82 + f83 + f84 + f85 + f86 + f87 + f88 + f89 + f90 + f91 + f92 + f93 + f94 + f95 + f96 + f97 + f98 + f99 + f100 + f101 + f102 + f103 + f104 + f105 + f106 + f107 + f108 + f109 + f110 + f111 + f112 + f113 + f114 + f115 + f116 + f117 + f118 + f119 + f120 + f121 + f122 + f123 + f124 + f125 + f126 + f127 + f128 + f129 + f130 + f131 + f132 + f133 + f134 + f135 + f136 + f137 + f138 + f139 + f140 + f141 + f142 + f143 + f144 + f145 + f146 + f147 + f148 + f149 + f150 + f151 + f152 + f153 + f154 + f155 + f156 + f157 + f158 + f159 + f160 + f161 + f162 + f163 + f164 + f165 + f166 + f167 + f168 + f169 + f170 + f171 + f172 + f173 + f174 + f175 + f176 + f177 + f178 + f179 + f180 + f181 + f182 + f183 + f184 + f185 + f186 + f187 + f188 + f189 + f190 + f191 + f192 + f193 + f194 + f195 + f196 + f197 + f198 + f199 + f200 + f201 + f202 + f203 + f204 + f205 + f206 + f207 + f208 + f209 + f210 + f211 + f212 + f213 + f214 + f215 + f216 + f217 + f218 + f219 + f220 + f221 + f222 + f223 + f224 + f225 + f226 + f227 + f228 + f229 + f230 + f231 + f232 + f233 + f234 + f235 + f236 + f237 + f238 + f239 + f240 + f241 + f242 + f243 + f244 + f245 + f246 + f247 + f248 + f249 + f250 + f251 + f252 + f253 + f254 + f255 + f256 + f257 + f258 + f259 + f260 + f261 + f262 + f263 + f264 + f265 + f266 + f267 + f268 + f269 + f270 + f271 + f272 + f273 + f274 + f275 + f276 + f277 + f278 + f279 + f280 + f281 + f282 + f283 + f284 + f285 + f286 + f287 + f288 + f289 + f290 + f291 + f292 + f293 + f294 + f295 + f296 + f297 + f298 + f299 + f300 + f301 + f302 + f303 + f304 + f305 + f306 + f307 + f308 + f309 + f310 + f311 + f312 + f313 + f314 + f315 + f316 + f317 + f318 + f319 + f320 + f321 + f322 + f323 + f324 + f325 + f326 + f327 + f328 + f329 + f330 + f331 + f332 + f333 + f334 + f335 + f336 + f337 + f338 + f339 + f340 + f341 + f342 + f343 + f344 + f345 + f346 + f347 + f348 + f349 + f350 + f351 + f352 + f353 + f354 + f355 + f356 + f357 + f358 + f359 + f360 + f361 + f362 + f363 + f364 + f365 + f366 + f367 + f368 + f369 + f370 + f371 + f372 + f373 + f374 + f375 + f376 + f377 + f378 + f379 + f380 + f381 + f382 + f383 + f384 + f385 + f386 + f387 + f388 + f389 + f390 + f391 + f392 + f393 + f394 + f395 + f396 + f397 + f398 + f399 + f400 + f401 + f402 + f403 + f404 + f405 + f406 + f407 + f408 + f409 + f410 + f411 + f412 + f413 + f414 + f415 + f416 + f417 + f418 + f419 + f420 + f421 + f422 + f423 + f424 + f425 + f426 + f427 + f428 + f429 + f430 + f431 + f432 + f433 + f434 + f435 + f436 + f437 + f438 + f439 + f440 + f441 + f442 + f443 + f444 + f445 + f446 + f447 + f448 + f449 + f450 + f451 + f452 + f453 + f454 + f455 + f456 + f457 + f458 + f459 + f460 + f461 + f462 + f463 + f464 + f465 + f466 + f467 + f468 + f469 + f470 + f471 + f472 + f473 + f474 + f475 + f476 + f477 + f478 + f479 + f480 + f481 + f482 + f483 + f484 + f485 + f486 + f487 + f488 + f489 + f490 + f491 + f492 + f493 + f494 + f495 + f496 + f497 + f498 + f499 + f500 + f501 + f502 + f503 + f504 + f505 + f506 + f507 + f508 + f509 + f510 + f511\n"
     ]
    }
   ],
   "source": [
    "# Create formula\n",
    "formula = create_formula(train_sql)\n",
    "#print(\"Formula:\", formula)"
   ]
  },
  {
   "cell_type": "code",
   "execution_count": 11,
   "metadata": {},
   "outputs": [
    {
     "name": "stdout",
     "output_type": "stream",
     "text": [
      "Not adding a normalizer.\n",
      "Making per-feature arrays\n",
      "Changing data from row-wise to column-wise\n",
      "Beginning read starting with row: 1\n",
      "Rows Read: 165, Read Time: 0.087, Transform Time: 0\n",
      "Beginning read starting with row: 165\n",
      "No rows remaining. Finished reading data set. \n",
      "Processed 165 instances\n",
      "Binning and forming Feature objects\n",
      "Reserved memory for tree learner: 13334412 bytes\n",
      "Starting to train ...\n",
      "Not training a calibrator because it is not needed.\n",
      "Elapsed time: 00:00:11.5012367\n",
      "Elapsed time: 00:00:00.2987132\n"
     ]
    },
    {
     "data": {
      "text/plain": [
       "<revoscalepy.computecontext.RxLocalSeq.RxLocalSeq at 0x1ed8ffe04e0>"
      ]
     },
     "execution_count": 11,
     "metadata": {},
     "output_type": "execute_result"
    }
   ],
   "source": [
    "# Fit a classification model\n",
    "rx_set_compute_context(local)   # TODO: rx_fast_trees not working in sql context. Change to sql later\n",
    "classifier = rx_fast_trees(formula=formula,\n",
    "                           data=train_sql,\n",
    "                           num_trees=1000,\n",
    "                           method=\"binary\",\n",
    "                           random_seed=5)\n",
    "rx_set_compute_context(local)"
   ]
  },
  {
   "cell_type": "code",
   "execution_count": 12,
   "metadata": {},
   "outputs": [
    {
     "name": "stdout",
     "output_type": "stream",
     "text": [
      "Rows Read: 1, Total Rows Processed: 1\n",
      "Total Rows written: 1, Total time: 0.005\n",
      ", Total Chunk Time: 0.027 seconds \n"
     ]
    }
   ],
   "source": [
    "# Serialize model and insert into table\n",
    "insert_model(TABLE_CLASSIFIERS, connection_string, classifier, FASTTREE_MODEL_NAME)"
   ]
  },
  {
   "cell_type": "markdown",
   "metadata": {},
   "source": [
    "## Make Predictions on the Test Set\n",
    "Get a handle on the testing data and score on that data."
   ]
  },
  {
   "cell_type": "code",
   "execution_count": 13,
   "metadata": {
    "collapsed": true
   },
   "outputs": [],
   "source": [
    "# Point to the SQL table with the testing data\n",
    "query = \"SELECT * FROM {} WHERE patient_id NOT IN (SELECT patient_id FROM {})\".format(TABLE_FEATURES, TABLE_TRAIN_ID)\n",
    "test_sql = RxSqlServerData(sql_query=query, connection_string=connection_string, column_info=column_info)"
   ]
  },
  {
   "cell_type": "code",
   "execution_count": 14,
   "metadata": {},
   "outputs": [
    {
     "name": "stdout",
     "output_type": "stream",
     "text": [
      "Beginning read starting with row: 1\n",
      "Rows Read: 34, Read Time: 0.096, Transform Time: 0\n",
      "Beginning read starting with row: 34\n",
      "No rows remaining. Finished reading data set. \n",
      "Elapsed time: 00:00:00.6190756\n",
      "Finished writing 34 rows.\n",
      "Writing completed.\n",
      "Rows Read: 34, Total Rows Processed: 34\n",
      "Total Rows written: 34, Total time: 0.003\n",
      ", Total Chunk Time: 0.036 seconds \n"
     ]
    }
   ],
   "source": [
    "# Make predictions on the test data\n",
    "predictions = ml_predict(classifier, data=test_sql, extra_vars_to_write=[\"label\", \"patient_id\"])\n",
    "predictions_sql = RxSqlServerData(table=TABLE_PREDICTIONS, connection_string=connection_string)\n",
    "rx_data_step(predictions, predictions_sql, overwrite=True)"
   ]
  },
  {
   "cell_type": "markdown",
   "metadata": {},
   "source": [
    "## Evaluate the model using ROC area under curve\n",
    "This will generate an ROC plot and calculate the ROC AUC."
   ]
  },
  {
   "cell_type": "code",
   "execution_count": 15,
   "metadata": {},
   "outputs": [
    {
     "name": "stdout",
     "output_type": "stream",
     "text": [
      "ROC AUC:  0.681660899654\n"
     ]
    },
    {
     "data": {
      "image/png": "[encoded data removed]",
      "text/plain": [
       "<matplotlib.figure.Figure at 0x1ed92d48780>"
      ]
     },
     "metadata": {},
     "output_type": "display_data"
    }
   ],
   "source": [
    "# Evaluate model using ROC\n",
    "roc(predictions[\"label\"], predictions[\"Probability\"])"
   ]
  },
  {
   "cell_type": "markdown",
   "metadata": {},
   "source": [
    "## Make Predictions for Specific Patients"
   ]
  },
  {
   "cell_type": "code",
   "execution_count": 30,
   "metadata": {},
   "outputs": [
    {
     "name": "stdout",
     "output_type": "stream",
     "text": [
      "Rows Read: 1, Total Rows Processed: 1, Total Chunk Time: 0.025 seconds \n"
     ]
    }
   ],
   "source": [
    "# Get classifier\n",
    "classifier = retrieve_model(TABLE_CLASSIFIERS, connection_string, FASTTREE_MODEL_NAME)"
   ]
  },
  {
   "cell_type": "code",
   "execution_count": 28,
   "metadata": {
    "collapsed": true
   },
   "outputs": [],
   "source": [
    "# Specify patient to make prediction for\n",
    "PatientIndex = 9"
   ]
  },
  {
   "cell_type": "code",
   "execution_count": 29,
   "metadata": {},
   "outputs": [
    {
     "name": "stdout",
     "output_type": "stream",
     "text": [
      "SELECT TOP(1) * FROM dbo.features AS t1 INNER JOIN dbo.patients AS t2 ON t1.patient_id = t2.patient_id WHERE t2.idx = 47\n"
     ]
    }
   ],
   "source": [
    "# Select patient data\n",
    "query = \"SELECT TOP(1) * FROM {} AS t1 INNER JOIN {} AS t2 ON t1.patient_id = t2.patient_id WHERE t2.idx = {}\".format(TABLE_FEATURES, TABLE_PATIENTS, PatientIndex)\n",
    "print(query)\n",
    "patient_sql = RxSqlServerData(sql_query=query, connection_string=connection_string)"
   ]
  },
  {
   "cell_type": "code",
   "execution_count": 31,
   "metadata": {},
   "outputs": [
    {
     "name": "stdout",
     "output_type": "stream",
     "text": [
      "Beginning read starting with row: 1\n",
      "Rows Read: 1, Read Time: 0.059, Transform Time: 0\n",
      "Beginning read starting with row: 1\n",
      "No rows remaining. Finished reading data set. \n",
      "Elapsed time: 00:00:00.4769393\n",
      "Finished writing 1 rows.\n",
      "Writing completed.\n",
      "The probability of cancer for patient 47 with patient_id 04fca9fbec0b803326488ade96897f6e is 4.203895392974451e-43%\n",
      "Ground Truth: This patient does not have cancer\n"
     ]
    }
   ],
   "source": [
    "# Make Prediction on a single patient\n",
    "predictions = ml_predict(classifier, data=patient_sql, extra_vars_to_write=[\"label\", \"patient_id\"])\n",
    "\n",
    "print(\"The probability of cancer for patient {} with patient_id {} is {}%\".format(PatientIndex, predictions[\"patient_id\"].iloc[0], predictions[\"Probability\"].iloc[0]*100))\n",
    "if predictions[\"label\"].iloc[0] == 0:\n",
    "    print(\"Ground Truth: This patient does not have cancer\")\n",
    "else:\n",
    "    print(\"Ground Truth: This patient does have cancer\")"
   ]
  },
  {
   "cell_type": "code",
   "execution_count": null,
   "metadata": {
    "collapsed": true
   },
   "outputs": [],
   "source": []
  },
  {
   "cell_type": "code",
   "execution_count": null,
   "metadata": {
    "collapsed": true
   },
   "outputs": [],
   "source": []
  }
 ],
 "metadata": {
  "kernelspec": {
   "display_name": "Python 3",
   "language": "python",
   "name": "python3"
  },
  "language_info": {
   "codemirror_mode": {
    "name": "ipython",
    "version": 3
   },
   "file_extension": ".py",
   "mimetype": "text/x-python",
   "name": "python",
   "nbconvert_exporter": "python",
   "pygments_lexer": "ipython3",
   "version": "3.5.2"
  }
 },
 "nbformat": 4,
 "nbformat_minor": 2
}
